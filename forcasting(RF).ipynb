{
  "nbformat": 4,
  "nbformat_minor": 0,
  "metadata": {
    "colab": {
      "name": "forcasting(RF).ipynb",
      "provenance": []
    },
    "kernelspec": {
      "name": "python3",
      "display_name": "Python 3"
    },
    "language_info": {
      "name": "python"
    }
  },
  "cells": [
    {
      "cell_type": "code",
      "metadata": {
        "id": "7Stbk5ZRVYZw"
      },
      "source": [
        "import pandas as pd \n",
        "from sklearn.ensemble import RandomForestRegressor\n",
        "from sklearn.metrics import mean_absolute_error\n",
        "from sklearn.model_selection import train_test_split"
      ],
      "execution_count": null,
      "outputs": []
    },
    {
      "cell_type": "code",
      "metadata": {
        "colab": {
          "base_uri": "https://localhost:8080/"
        },
        "id": "wVmcK4yTdqXK",
        "outputId": "dedfc0bd-8035-4618-c816-0de0a36a69a0"
      },
      "source": [
        "df=pd.read_csv('/content/drive/MyDrive/dataset/temps.csv')\n",
        "df.shape"
      ],
      "execution_count": null,
      "outputs": [
        {
          "output_type": "execute_result",
          "data": {
            "text/plain": [
              "(348, 12)"
            ]
          },
          "metadata": {},
          "execution_count": 31
        }
      ]
    },
    {
      "cell_type": "code",
      "metadata": {
        "colab": {
          "base_uri": "https://localhost:8080/",
          "height": 206
        },
        "id": "aNnPgHuyeFjn",
        "outputId": "c211b66e-d125-4246-b645-2e690ca15798"
      },
      "source": [
        "# One-hot encode categorical features\n",
        "df= pd.get_dummies(df)\n",
        "df.tail(5)\n"
      ],
      "execution_count": null,
      "outputs": [
        {
          "output_type": "execute_result",
          "data": {
            "text/html": [
              "<div>\n",
              "<style scoped>\n",
              "    .dataframe tbody tr th:only-of-type {\n",
              "        vertical-align: middle;\n",
              "    }\n",
              "\n",
              "    .dataframe tbody tr th {\n",
              "        vertical-align: top;\n",
              "    }\n",
              "\n",
              "    .dataframe thead th {\n",
              "        text-align: right;\n",
              "    }\n",
              "</style>\n",
              "<table border=\"1\" class=\"dataframe\">\n",
              "  <thead>\n",
              "    <tr style=\"text-align: right;\">\n",
              "      <th></th>\n",
              "      <th>year</th>\n",
              "      <th>month</th>\n",
              "      <th>day</th>\n",
              "      <th>temp_2</th>\n",
              "      <th>temp_1</th>\n",
              "      <th>average</th>\n",
              "      <th>actual</th>\n",
              "      <th>forecast_noaa</th>\n",
              "      <th>forecast_acc</th>\n",
              "      <th>forecast_under</th>\n",
              "      <th>friend</th>\n",
              "      <th>week_Fri</th>\n",
              "      <th>week_Mon</th>\n",
              "      <th>week_Sat</th>\n",
              "      <th>week_Sun</th>\n",
              "      <th>week_Thurs</th>\n",
              "      <th>week_Tues</th>\n",
              "      <th>week_Wed</th>\n",
              "    </tr>\n",
              "  </thead>\n",
              "  <tbody>\n",
              "    <tr>\n",
              "      <th>343</th>\n",
              "      <td>2016</td>\n",
              "      <td>12</td>\n",
              "      <td>27</td>\n",
              "      <td>42</td>\n",
              "      <td>42</td>\n",
              "      <td>45.2</td>\n",
              "      <td>47</td>\n",
              "      <td>41</td>\n",
              "      <td>50</td>\n",
              "      <td>47</td>\n",
              "      <td>47</td>\n",
              "      <td>0</td>\n",
              "      <td>0</td>\n",
              "      <td>0</td>\n",
              "      <td>0</td>\n",
              "      <td>0</td>\n",
              "      <td>1</td>\n",
              "      <td>0</td>\n",
              "    </tr>\n",
              "    <tr>\n",
              "      <th>344</th>\n",
              "      <td>2016</td>\n",
              "      <td>12</td>\n",
              "      <td>28</td>\n",
              "      <td>42</td>\n",
              "      <td>47</td>\n",
              "      <td>45.3</td>\n",
              "      <td>48</td>\n",
              "      <td>41</td>\n",
              "      <td>49</td>\n",
              "      <td>44</td>\n",
              "      <td>58</td>\n",
              "      <td>0</td>\n",
              "      <td>0</td>\n",
              "      <td>0</td>\n",
              "      <td>0</td>\n",
              "      <td>0</td>\n",
              "      <td>0</td>\n",
              "      <td>1</td>\n",
              "    </tr>\n",
              "    <tr>\n",
              "      <th>345</th>\n",
              "      <td>2016</td>\n",
              "      <td>12</td>\n",
              "      <td>29</td>\n",
              "      <td>47</td>\n",
              "      <td>48</td>\n",
              "      <td>45.3</td>\n",
              "      <td>48</td>\n",
              "      <td>43</td>\n",
              "      <td>50</td>\n",
              "      <td>45</td>\n",
              "      <td>65</td>\n",
              "      <td>0</td>\n",
              "      <td>0</td>\n",
              "      <td>0</td>\n",
              "      <td>0</td>\n",
              "      <td>1</td>\n",
              "      <td>0</td>\n",
              "      <td>0</td>\n",
              "    </tr>\n",
              "    <tr>\n",
              "      <th>346</th>\n",
              "      <td>2016</td>\n",
              "      <td>12</td>\n",
              "      <td>30</td>\n",
              "      <td>48</td>\n",
              "      <td>48</td>\n",
              "      <td>45.4</td>\n",
              "      <td>57</td>\n",
              "      <td>44</td>\n",
              "      <td>46</td>\n",
              "      <td>44</td>\n",
              "      <td>42</td>\n",
              "      <td>1</td>\n",
              "      <td>0</td>\n",
              "      <td>0</td>\n",
              "      <td>0</td>\n",
              "      <td>0</td>\n",
              "      <td>0</td>\n",
              "      <td>0</td>\n",
              "    </tr>\n",
              "    <tr>\n",
              "      <th>347</th>\n",
              "      <td>2016</td>\n",
              "      <td>12</td>\n",
              "      <td>31</td>\n",
              "      <td>48</td>\n",
              "      <td>57</td>\n",
              "      <td>45.5</td>\n",
              "      <td>40</td>\n",
              "      <td>42</td>\n",
              "      <td>48</td>\n",
              "      <td>47</td>\n",
              "      <td>57</td>\n",
              "      <td>0</td>\n",
              "      <td>0</td>\n",
              "      <td>1</td>\n",
              "      <td>0</td>\n",
              "      <td>0</td>\n",
              "      <td>0</td>\n",
              "      <td>0</td>\n",
              "    </tr>\n",
              "  </tbody>\n",
              "</table>\n",
              "</div>"
            ],
            "text/plain": [
              "     year  month  day  temp_2  ...  week_Sun  week_Thurs  week_Tues  week_Wed\n",
              "343  2016     12   27      42  ...         0           0          1         0\n",
              "344  2016     12   28      42  ...         0           0          0         1\n",
              "345  2016     12   29      47  ...         0           1          0         0\n",
              "346  2016     12   30      48  ...         0           0          0         0\n",
              "347  2016     12   31      48  ...         0           0          0         0\n",
              "\n",
              "[5 rows x 18 columns]"
            ]
          },
          "metadata": {},
          "execution_count": 32
        }
      ]
    },
    {
      "cell_type": "code",
      "metadata": {
        "id": "T5fLIiJOedQk"
      },
      "source": [
        "#define the features and target \n",
        "features= [\"year\",\"month\",\"day\",\"week_Fri\",\"week_Mon\",\"week_Sat\",\"week_Sun\",\"week_Thurs\",\"week_Tues\",\"week_Wed\",\"temp_2\",\"temp_1\",\"average\"]\n",
        "X=df[features]\n",
        "y=df.actual"
      ],
      "execution_count": null,
      "outputs": []
    },
    {
      "cell_type": "code",
      "metadata": {
        "id": "cKTFDNvmeC9A"
      },
      "source": [
        "\n",
        "# spliting the data \n",
        "train_X,val_X,train_y,val_y= train_test_split(X, y, random_state=1)\n",
        "# making model \n",
        "forecast=RandomForestRegressor(random_state=1)\n"
      ],
      "execution_count": null,
      "outputs": []
    },
    {
      "cell_type": "code",
      "metadata": {
        "colab": {
          "base_uri": "https://localhost:8080/"
        },
        "id": "9pLkogdse26c",
        "outputId": "f9f1fd38-4d37-440c-8dec-05739aa4c016"
      },
      "source": [
        "#MODEL VALIDATION \n",
        "forecast.fit(train_X,train_y)\n",
        "val_prediction = forecast.predict(val_X)\n",
        "print(val_prediction)\n"
      ],
      "execution_count": null,
      "outputs": [
        {
          "output_type": "stream",
          "name": "stdout",
          "text": [
            "[58.59 77.11 71.55 74.18 73.74 59.82 50.92 47.3  66.4  75.81 45.09 78.82\n",
            " 65.4  82.05 54.85 60.71 41.51 48.71 56.16 72.05 52.34 78.15 77.72 81.23\n",
            " 61.2  47.92 77.69 75.2  62.28 39.01 61.65 58.52 64.71 62.5  79.2  76.33\n",
            " 70.15 52.88 44.36 53.23 77.68 69.93 61.94 42.9  74.69 67.49 65.38 67.58\n",
            " 74.27 53.71 69.08 67.61 63.43 45.13 74.43 77.32 41.54 76.03 52.91 60.85\n",
            " 72.43 50.5  77.33 53.1  59.7  51.83 61.2  52.84 59.   75.72 78.1  62.03\n",
            " 61.49 69.41 72.09 56.11 58.34 54.13 77.07 55.39 64.26 52.14 66.89 62.02\n",
            " 78.55 52.48 48.08]\n"
          ]
        }
      ]
    },
    {
      "cell_type": "code",
      "metadata": {
        "colab": {
          "base_uri": "https://localhost:8080/"
        },
        "id": "lE8m_lzufIJ5",
        "outputId": "805a1450-43e5-48c2-d033-ae75d5e5d59c"
      },
      "source": [
        "# mean absolute error\n",
        "mae=mean_absolute_error(val_prediction,val_y)\n",
        "print(\"validation MAE:\",mae)"
      ],
      "execution_count": null,
      "outputs": [
        {
          "output_type": "stream",
          "name": "stdout",
          "text": [
            "validation MAE: 4.463793103448276\n"
          ]
        }
      ]
    },
    {
      "cell_type": "code",
      "metadata": {
        "id": "STP43co5f18m"
      },
      "source": [
        "#  the max leaf node\n",
        "def get_mae(max_leaf_nodes, train_X, val_X, train_y, val_y):\n",
        "    model = RandomForestRegressor(max_leaf_nodes=max_leaf_nodes, random_state=0)\n",
        "    model.fit(train_X, train_y)\n",
        "    preds_val = model.predict(val_X)\n",
        "    mae = mean_absolute_error(val_y, preds_val)\n",
        "    return(mae)"
      ],
      "execution_count": null,
      "outputs": []
    },
    {
      "cell_type": "code",
      "metadata": {
        "colab": {
          "base_uri": "https://localhost:8080/"
        },
        "id": "blqBQWVCgbcV",
        "outputId": "bc8dd955-d550-40e4-e9a8-0a90dc5f0b82"
      },
      "source": [
        "# compare MAE with differing values of max_leaf_nodes\n",
        "for max_leaf_nodes in [5,10,12,25,50,500,5000]:\n",
        "    my_mae = get_mae(max_leaf_nodes, train_X, val_X, train_y, val_y)\n",
        "    print(\"Max leaf nodes: %d  \\t\\t Mean Absolute Error:  %f\" %(max_leaf_nodes, my_mae))"
      ],
      "execution_count": null,
      "outputs": [
        {
          "output_type": "stream",
          "name": "stdout",
          "text": [
            "Max leaf nodes: 5  \t\t Mean Absolute Error:  4.666118\n",
            "Max leaf nodes: 10  \t\t Mean Absolute Error:  4.435026\n",
            "Max leaf nodes: 12  \t\t Mean Absolute Error:  4.452087\n",
            "Max leaf nodes: 25  \t\t Mean Absolute Error:  4.447023\n",
            "Max leaf nodes: 50  \t\t Mean Absolute Error:  4.408908\n",
            "Max leaf nodes: 500  \t\t Mean Absolute Error:  4.438391\n",
            "Max leaf nodes: 5000  \t\t Mean Absolute Error:  4.438391\n"
          ]
        }
      ]
    },
    {
      "cell_type": "code",
      "metadata": {
        "colab": {
          "base_uri": "https://localhost:8080/"
        },
        "id": "47DVe8spgrOS",
        "outputId": "f3f1526d-49db-4ea4-d2ef-dfe4ec62fc78"
      },
      "source": [
        "score={leaf_size:get_mae(leaf_size,train_X,val_X,train_y,val_y) for leaf_size in range(5,500)}\n",
        "# Storing  the best value of max_leaf_nodes\n",
        "best_tree_size =min(score,key=score.get)\n",
        "print(best_tree_size)"
      ],
      "execution_count": null,
      "outputs": [
        {
          "output_type": "stream",
          "name": "stdout",
          "text": [
            "66\n"
          ]
        }
      ]
    },
    {
      "cell_type": "code",
      "metadata": {
        "id": "oNM-ha6ChGyt"
      },
      "source": [
        "# final model \n",
        "final_model = RandomForestRegressor(max_leaf_nodes = best_tree_size,random_state=1)\n",
        "final_model.fit(X, y)\n",
        "prediction = final_model.predict(X)\n"
      ],
      "execution_count": null,
      "outputs": []
    },
    {
      "cell_type": "code",
      "metadata": {
        "colab": {
          "base_uri": "https://localhost:8080/"
        },
        "id": "32Ju7zJohgPB",
        "outputId": "dea76f39-5fe4-4f11-965c-12e9fb0f1d6a"
      },
      "source": [
        "#model accuracy \n",
        "print(\"accuracy:\",mean_absolute_error(y,prediction))"
      ],
      "execution_count": null,
      "outputs": [
        {
          "output_type": "stream",
          "name": "stdout",
          "text": [
            "accuracy: 1.8457598023163717\n"
          ]
        }
      ]
    },
    {
      "cell_type": "code",
      "metadata": {
        "id": "ViDaSoNOh4mh"
      },
      "source": [
        ""
      ],
      "execution_count": null,
      "outputs": []
    }
  ]
}